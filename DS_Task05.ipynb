{
 "cells": [
  {
   "cell_type": "code",
   "execution_count": 1,
   "id": "02c5d886",
   "metadata": {},
   "outputs": [],
   "source": [
    "import pandas as pd\n",
    "import numpy as np\n",
    "import matplotlib.pyplot as plt\n",
    "import seaborn as sns"
   ]
  },
  {
   "cell_type": "code",
   "execution_count": 2,
   "id": "5b939fc8",
   "metadata": {},
   "outputs": [],
   "source": [
    "df=pd.read_csv(r\"C:\\Users\\G Supriya\\OneDrive\\Desktop\\vivek\\Prodigy_DS_internship\\Task5\\archive\\global_traffic_accidents.csv\")"
   ]
  },
  {
   "cell_type": "code",
   "execution_count": 3,
   "id": "13cbb69c",
   "metadata": {},
   "outputs": [
    {
     "data": {
      "text/html": [
       "<div>\n",
       "<style scoped>\n",
       "    .dataframe tbody tr th:only-of-type {\n",
       "        vertical-align: middle;\n",
       "    }\n",
       "\n",
       "    .dataframe tbody tr th {\n",
       "        vertical-align: top;\n",
       "    }\n",
       "\n",
       "    .dataframe thead th {\n",
       "        text-align: right;\n",
       "    }\n",
       "</style>\n",
       "<table border=\"1\" class=\"dataframe\">\n",
       "  <thead>\n",
       "    <tr style=\"text-align: right;\">\n",
       "      <th></th>\n",
       "      <th>Accident ID</th>\n",
       "      <th>Date</th>\n",
       "      <th>Time</th>\n",
       "      <th>Location</th>\n",
       "      <th>Latitude</th>\n",
       "      <th>Longitude</th>\n",
       "      <th>Weather Condition</th>\n",
       "      <th>Road Condition</th>\n",
       "      <th>Vehicles Involved</th>\n",
       "      <th>Casualties</th>\n",
       "      <th>Cause</th>\n",
       "    </tr>\n",
       "  </thead>\n",
       "  <tbody>\n",
       "    <tr>\n",
       "      <th>0</th>\n",
       "      <td>b0dd6f57</td>\n",
       "      <td>2023-04-19</td>\n",
       "      <td>06:39</td>\n",
       "      <td>Mumbai, India</td>\n",
       "      <td>13.488432</td>\n",
       "      <td>-73.290682</td>\n",
       "      <td>Snow</td>\n",
       "      <td>Snowy</td>\n",
       "      <td>5</td>\n",
       "      <td>7</td>\n",
       "      <td>Reckless Driving</td>\n",
       "    </tr>\n",
       "    <tr>\n",
       "      <th>1</th>\n",
       "      <td>debfad09</td>\n",
       "      <td>2023-01-17</td>\n",
       "      <td>02:47</td>\n",
       "      <td>São Paulo, Brazil</td>\n",
       "      <td>-37.798317</td>\n",
       "      <td>-32.244242</td>\n",
       "      <td>Clear</td>\n",
       "      <td>Icy</td>\n",
       "      <td>4</td>\n",
       "      <td>1</td>\n",
       "      <td>Drunk Driving</td>\n",
       "    </tr>\n",
       "    <tr>\n",
       "      <th>2</th>\n",
       "      <td>6d69aa36</td>\n",
       "      <td>2024-04-09</td>\n",
       "      <td>02:55</td>\n",
       "      <td>Sydney, Australia</td>\n",
       "      <td>33.767869</td>\n",
       "      <td>104.869018</td>\n",
       "      <td>Rain</td>\n",
       "      <td>Snowy</td>\n",
       "      <td>1</td>\n",
       "      <td>7</td>\n",
       "      <td>Reckless Driving</td>\n",
       "    </tr>\n",
       "    <tr>\n",
       "      <th>3</th>\n",
       "      <td>425bb1f0</td>\n",
       "      <td>2023-10-10</td>\n",
       "      <td>11:23</td>\n",
       "      <td>Tokyo, Japan</td>\n",
       "      <td>-0.378031</td>\n",
       "      <td>-165.825855</td>\n",
       "      <td>Storm</td>\n",
       "      <td>Wet</td>\n",
       "      <td>4</td>\n",
       "      <td>0</td>\n",
       "      <td>Drunk Driving</td>\n",
       "    </tr>\n",
       "    <tr>\n",
       "      <th>4</th>\n",
       "      <td>90d5cf62</td>\n",
       "      <td>2023-01-02</td>\n",
       "      <td>12:07</td>\n",
       "      <td>Beijing, China</td>\n",
       "      <td>41.254879</td>\n",
       "      <td>-30.776959</td>\n",
       "      <td>Storm</td>\n",
       "      <td>Snowy</td>\n",
       "      <td>3</td>\n",
       "      <td>9</td>\n",
       "      <td>Reckless Driving</td>\n",
       "    </tr>\n",
       "  </tbody>\n",
       "</table>\n",
       "</div>"
      ],
      "text/plain": [
       "  Accident ID        Date   Time           Location   Latitude   Longitude  \\\n",
       "0    b0dd6f57  2023-04-19  06:39      Mumbai, India  13.488432  -73.290682   \n",
       "1    debfad09  2023-01-17  02:47  São Paulo, Brazil -37.798317  -32.244242   \n",
       "2    6d69aa36  2024-04-09  02:55  Sydney, Australia  33.767869  104.869018   \n",
       "3    425bb1f0  2023-10-10  11:23       Tokyo, Japan  -0.378031 -165.825855   \n",
       "4    90d5cf62  2023-01-02  12:07     Beijing, China  41.254879  -30.776959   \n",
       "\n",
       "  Weather Condition Road Condition  Vehicles Involved  Casualties  \\\n",
       "0              Snow          Snowy                  5           7   \n",
       "1             Clear            Icy                  4           1   \n",
       "2              Rain          Snowy                  1           7   \n",
       "3             Storm            Wet                  4           0   \n",
       "4             Storm          Snowy                  3           9   \n",
       "\n",
       "              Cause  \n",
       "0  Reckless Driving  \n",
       "1     Drunk Driving  \n",
       "2  Reckless Driving  \n",
       "3     Drunk Driving  \n",
       "4  Reckless Driving  "
      ]
     },
     "execution_count": 3,
     "metadata": {},
     "output_type": "execute_result"
    }
   ],
   "source": [
    "df.head()"
   ]
  },
  {
   "cell_type": "code",
   "execution_count": 4,
   "id": "22d7072a",
   "metadata": {},
   "outputs": [
    {
     "name": "stdout",
     "output_type": "stream",
     "text": [
      "<class 'pandas.core.frame.DataFrame'>\n",
      "RangeIndex: 10000 entries, 0 to 9999\n",
      "Data columns (total 11 columns):\n",
      " #   Column             Non-Null Count  Dtype  \n",
      "---  ------             --------------  -----  \n",
      " 0   Accident ID        10000 non-null  object \n",
      " 1   Date               10000 non-null  object \n",
      " 2   Time               10000 non-null  object \n",
      " 3   Location           10000 non-null  object \n",
      " 4   Latitude           10000 non-null  float64\n",
      " 5   Longitude          10000 non-null  float64\n",
      " 6   Weather Condition  10000 non-null  object \n",
      " 7   Road Condition     10000 non-null  object \n",
      " 8   Vehicles Involved  10000 non-null  int64  \n",
      " 9   Casualties         10000 non-null  int64  \n",
      " 10  Cause              10000 non-null  object \n",
      "dtypes: float64(2), int64(2), object(7)\n",
      "memory usage: 859.5+ KB\n"
     ]
    }
   ],
   "source": [
    "df.info()"
   ]
  },
  {
   "cell_type": "code",
   "execution_count": 5,
   "id": "4776cf63",
   "metadata": {},
   "outputs": [
    {
     "data": {
      "text/plain": [
       "Road Condition\n",
       "Dry                   1729\n",
       "Gravel                1702\n",
       "Wet                   1680\n",
       "Icy                   1653\n",
       "Snowy                 1618\n",
       "Under Construction    1618\n",
       "Name: count, dtype: int64"
      ]
     },
     "execution_count": 5,
     "metadata": {},
     "output_type": "execute_result"
    }
   ],
   "source": [
    "df[\"Road Condition\"].value_counts()"
   ]
  },
  {
   "cell_type": "markdown",
   "id": "e8644c65",
   "metadata": {},
   "source": [
    "# Data Visualization"
   ]
  },
  {
   "cell_type": "code",
   "execution_count": 6,
   "id": "c25b2f53",
   "metadata": {},
   "outputs": [
    {
     "data": {
      "text/plain": [
       "Text(0.5, 1.0, 'Road Contions Vs Accidents')"
      ]
     },
     "execution_count": 6,
     "metadata": {},
     "output_type": "execute_result"
    },
    {
     "data": {
      "image/png": "[encoded data removed]",
      "text/plain": [
       "<Figure size 640x480 with 1 Axes>"
      ]
     },
     "metadata": {},
     "output_type": "display_data"
    }
   ],
   "source": [
    "sns.countplot(df[\"Road Condition\"])\n",
    "plt.title(\"Road Contions Vs Accidents\")"
   ]
  },
  {
   "cell_type": "code",
   "execution_count": 7,
   "id": "d3b37fd0",
   "metadata": {},
   "outputs": [
    {
     "data": {
      "text/plain": [
       "Cause\n",
       "Drunk Driving         1716\n",
       "Reckless Driving      1685\n",
       "Weather Conditions    1657\n",
       "Speeding              1656\n",
       "Mechanical Failure    1653\n",
       "Distracted Driving    1633\n",
       "Name: count, dtype: int64"
      ]
     },
     "execution_count": 7,
     "metadata": {},
     "output_type": "execute_result"
    }
   ],
   "source": [
    "df[\"Cause\"].value_counts()"
   ]
  },
  {
   "cell_type": "code",
   "execution_count": 8,
   "id": "fe90f770",
   "metadata": {},
   "outputs": [
    {
     "data": {
      "text/plain": [
       "Text(0.5, 1.0, 'Causes of Accidents VS Number of Accidents')"
      ]
     },
     "execution_count": 8,
     "metadata": {},
     "output_type": "execute_result"
    },
    {
     "data": {
      "image/png": "[encoded data removed]",
      "text/plain": [
       "<Figure size 640x480 with 1 Axes>"
      ]
     },
     "metadata": {},
     "output_type": "display_data"
    }
   ],
   "source": [
    "sns.countplot(df[\"Cause\"],color=\"orange\")\n",
    "plt.title(\"Causes of Accidents VS Number of Accidents\")"
   ]
  },
  {
   "cell_type": "code",
   "execution_count": 9,
   "id": "7801700d",
   "metadata": {},
   "outputs": [
    {
     "data": {
      "text/plain": [
       "Weather Condition\n",
       "Rain     1681\n",
       "Clear    1674\n",
       "Hail     1673\n",
       "Snow     1667\n",
       "Fog      1660\n",
       "Storm    1645\n",
       "Name: count, dtype: int64"
      ]
     },
     "execution_count": 9,
     "metadata": {},
     "output_type": "execute_result"
    }
   ],
   "source": [
    "df[\"Weather Condition\"].value_counts()"
   ]
  },
  {
   "cell_type": "code",
   "execution_count": 10,
   "id": "408d69ed",
   "metadata": {},
   "outputs": [
    {
     "data": {
      "text/plain": [
       "Text(0.5, 1.0, 'Weather Conditions Vs Number of Accidents')"
      ]
     },
     "execution_count": 10,
     "metadata": {},
     "output_type": "execute_result"
    },
    {
     "data": {
      "image/png": "[encoded data removed]",
      "text/plain": [
       "<Figure size 640x480 with 1 Axes>"
      ]
     },
     "metadata": {},
     "output_type": "display_data"
    }
   ],
   "source": [
    "sns.countplot(df[\"Weather Condition\"],color=\"lightgreen\")\n",
    "plt.title(\"Weather Conditions Vs Number of Accidents\")"
   ]
  },
  {
   "cell_type": "code",
   "execution_count": 11,
   "id": "167883c5",
   "metadata": {},
   "outputs": [
    {
     "data": {
      "text/plain": [
       "array(['Mumbai, India', 'São Paulo, Brazil', 'Sydney, Australia',\n",
       "       'Tokyo, Japan', 'Beijing, China', 'Paris, France', 'London, UK',\n",
       "       'Toronto, Canada', 'Berlin, Germany', 'New York, USA'],\n",
       "      dtype=object)"
      ]
     },
     "execution_count": 11,
     "metadata": {},
     "output_type": "execute_result"
    }
   ],
   "source": [
    "df[\"Location\"].unique()"
   ]
  },
  {
   "cell_type": "code",
   "execution_count": 12,
   "id": "cb1e7b03",
   "metadata": {},
   "outputs": [
    {
     "data": {
      "text/plain": [
       "<Axes: ylabel='count'>"
      ]
     },
     "execution_count": 12,
     "metadata": {},
     "output_type": "execute_result"
    },
    {
     "data": {
      "image/png": "[encoded data removed]",
      "text/plain": [
       "<Figure size 640x480 with 1 Axes>"
      ]
     },
     "metadata": {},
     "output_type": "display_data"
    }
   ],
   "source": [
    "location_counts=df[\"Location\"].value_counts()\n",
    "location_counts.plot(kind=\"pie\",autopct='%1.1f%%',startangle=90)"
   ]
  },
  {
   "cell_type": "code",
   "execution_count": 13,
   "id": "afce38e1",
   "metadata": {},
   "outputs": [
    {
     "data": {
      "image/png": "[encoded data removed]",
      "text/plain": [
       "<Figure size 640x480 with 1 Axes>"
      ]
     },
     "metadata": {},
     "output_type": "display_data"
    }
   ],
   "source": [
    "No_of_Casualties_causes=df.groupby(\"Cause\")[\"Casualties\"].sum()\n",
    "No_of_Casualties_causes.plot(kind=\"bar\")\n",
    "plt.ylabel(\"Number of Casualities\")\n",
    "plt.title(\"Causes Vs No_of_Casualities\")\n",
    "plt.show()"
   ]
  },
  {
   "cell_type": "code",
   "execution_count": 14,
   "id": "caf7bab4",
   "metadata": {},
   "outputs": [
    {
     "data": {
      "text/plain": [
       "<Axes: ylabel='Vehicles Involved'>"
      ]
     },
     "execution_count": 14,
     "metadata": {},
     "output_type": "execute_result"
    },
    {
     "data": {
      "image/png": "[encoded data removed]",
      "text/plain": [
       "<Figure size 640x480 with 1 Axes>"
      ]
     },
     "metadata": {},
     "output_type": "display_data"
    }
   ],
   "source": [
    "No_of_vehicles_per_cause=df.groupby(\"Cause\")[\"Vehicles Involved\"].sum()\n",
    "No_of_vehicles_per_cause.plot(kind=\"pie\",autopct='%1.1f%%',startangle=90)"
   ]
  },
  {
   "cell_type": "code",
   "execution_count": 15,
   "id": "6e6c7753",
   "metadata": {},
   "outputs": [
    {
     "data": {
      "text/plain": [
       "Text(0.5, 1.0, 'Number of Vehicles Vs Causes')"
      ]
     },
     "execution_count": 15,
     "metadata": {},
     "output_type": "execute_result"
    },
    {
     "data": {
      "image/png": "[encoded data removed]",
      "text/plain": [
       "<Figure size 640x480 with 1 Axes>"
      ]
     },
     "metadata": {},
     "output_type": "display_data"
    }
   ],
   "source": [
    "No_of_vehicles_per_cause.plot(kind=\"bar\",color=\"violet\")\n",
    "plt.ylabel(\"Number of Vehicles\")\n",
    "plt.title(\"Number of Vehicles Vs Causes\")"
   ]
  },
  {
   "cell_type": "code",
   "execution_count": 16,
   "id": "0aea77d0",
   "metadata": {},
   "outputs": [
    {
     "data": {
      "text/plain": [
       "29991"
      ]
     },
     "execution_count": 16,
     "metadata": {},
     "output_type": "execute_result"
    }
   ],
   "source": [
    "df[\"Vehicles Involved\"].sum()"
   ]
  },
  {
   "cell_type": "code",
   "execution_count": 17,
   "id": "96c6e19c",
   "metadata": {},
   "outputs": [
    {
     "data": {
      "text/html": [
       "<div>\n",
       "<style scoped>\n",
       "    .dataframe tbody tr th:only-of-type {\n",
       "        vertical-align: middle;\n",
       "    }\n",
       "\n",
       "    .dataframe tbody tr th {\n",
       "        vertical-align: top;\n",
       "    }\n",
       "\n",
       "    .dataframe thead th {\n",
       "        text-align: right;\n",
       "    }\n",
       "</style>\n",
       "<table border=\"1\" class=\"dataframe\">\n",
       "  <thead>\n",
       "    <tr style=\"text-align: right;\">\n",
       "      <th></th>\n",
       "      <th>Accident ID</th>\n",
       "      <th>Date</th>\n",
       "      <th>Time</th>\n",
       "      <th>Location</th>\n",
       "      <th>Latitude</th>\n",
       "      <th>Longitude</th>\n",
       "      <th>Weather Condition</th>\n",
       "      <th>Road Condition</th>\n",
       "      <th>Vehicles Involved</th>\n",
       "      <th>Casualties</th>\n",
       "      <th>Cause</th>\n",
       "    </tr>\n",
       "  </thead>\n",
       "  <tbody>\n",
       "    <tr>\n",
       "      <th>0</th>\n",
       "      <td>b0dd6f57</td>\n",
       "      <td>2023-04-19</td>\n",
       "      <td>06:39</td>\n",
       "      <td>Mumbai, India</td>\n",
       "      <td>13.488432</td>\n",
       "      <td>-73.290682</td>\n",
       "      <td>Snow</td>\n",
       "      <td>Snowy</td>\n",
       "      <td>5</td>\n",
       "      <td>7</td>\n",
       "      <td>Reckless Driving</td>\n",
       "    </tr>\n",
       "    <tr>\n",
       "      <th>1</th>\n",
       "      <td>debfad09</td>\n",
       "      <td>2023-01-17</td>\n",
       "      <td>02:47</td>\n",
       "      <td>São Paulo, Brazil</td>\n",
       "      <td>-37.798317</td>\n",
       "      <td>-32.244242</td>\n",
       "      <td>Clear</td>\n",
       "      <td>Icy</td>\n",
       "      <td>4</td>\n",
       "      <td>1</td>\n",
       "      <td>Drunk Driving</td>\n",
       "    </tr>\n",
       "    <tr>\n",
       "      <th>2</th>\n",
       "      <td>6d69aa36</td>\n",
       "      <td>2024-04-09</td>\n",
       "      <td>02:55</td>\n",
       "      <td>Sydney, Australia</td>\n",
       "      <td>33.767869</td>\n",
       "      <td>104.869018</td>\n",
       "      <td>Rain</td>\n",
       "      <td>Snowy</td>\n",
       "      <td>1</td>\n",
       "      <td>7</td>\n",
       "      <td>Reckless Driving</td>\n",
       "    </tr>\n",
       "    <tr>\n",
       "      <th>3</th>\n",
       "      <td>425bb1f0</td>\n",
       "      <td>2023-10-10</td>\n",
       "      <td>11:23</td>\n",
       "      <td>Tokyo, Japan</td>\n",
       "      <td>-0.378031</td>\n",
       "      <td>-165.825855</td>\n",
       "      <td>Storm</td>\n",
       "      <td>Wet</td>\n",
       "      <td>4</td>\n",
       "      <td>0</td>\n",
       "      <td>Drunk Driving</td>\n",
       "    </tr>\n",
       "    <tr>\n",
       "      <th>4</th>\n",
       "      <td>90d5cf62</td>\n",
       "      <td>2023-01-02</td>\n",
       "      <td>12:07</td>\n",
       "      <td>Beijing, China</td>\n",
       "      <td>41.254879</td>\n",
       "      <td>-30.776959</td>\n",
       "      <td>Storm</td>\n",
       "      <td>Snowy</td>\n",
       "      <td>3</td>\n",
       "      <td>9</td>\n",
       "      <td>Reckless Driving</td>\n",
       "    </tr>\n",
       "  </tbody>\n",
       "</table>\n",
       "</div>"
      ],
      "text/plain": [
       "  Accident ID        Date   Time           Location   Latitude   Longitude  \\\n",
       "0    b0dd6f57  2023-04-19  06:39      Mumbai, India  13.488432  -73.290682   \n",
       "1    debfad09  2023-01-17  02:47  São Paulo, Brazil -37.798317  -32.244242   \n",
       "2    6d69aa36  2024-04-09  02:55  Sydney, Australia  33.767869  104.869018   \n",
       "3    425bb1f0  2023-10-10  11:23       Tokyo, Japan  -0.378031 -165.825855   \n",
       "4    90d5cf62  2023-01-02  12:07     Beijing, China  41.254879  -30.776959   \n",
       "\n",
       "  Weather Condition Road Condition  Vehicles Involved  Casualties  \\\n",
       "0              Snow          Snowy                  5           7   \n",
       "1             Clear            Icy                  4           1   \n",
       "2              Rain          Snowy                  1           7   \n",
       "3             Storm            Wet                  4           0   \n",
       "4             Storm          Snowy                  3           9   \n",
       "\n",
       "              Cause  \n",
       "0  Reckless Driving  \n",
       "1     Drunk Driving  \n",
       "2  Reckless Driving  \n",
       "3     Drunk Driving  \n",
       "4  Reckless Driving  "
      ]
     },
     "execution_count": 17,
     "metadata": {},
     "output_type": "execute_result"
    }
   ],
   "source": [
    "df.head()"
   ]
  },
  {
   "cell_type": "code",
   "execution_count": 18,
   "id": "cd4fb141",
   "metadata": {},
   "outputs": [
    {
     "data": {
      "text/plain": [
       "Index(['Accident ID', 'Date', 'Time', 'Location', 'Latitude', 'Longitude',\n",
       "       'Weather Condition', 'Road Condition', 'Vehicles Involved',\n",
       "       'Casualties', 'Cause'],\n",
       "      dtype='object')"
      ]
     },
     "execution_count": 18,
     "metadata": {},
     "output_type": "execute_result"
    }
   ],
   "source": [
    "df.columns"
   ]
  },
  {
   "cell_type": "code",
   "execution_count": 19,
   "id": "511fd6f8",
   "metadata": {},
   "outputs": [],
   "source": [
    "def classify_risk(x):\n",
    "    if x <= 1:\n",
    "        return 'Low'\n",
    "    elif 1 < x <= 3:\n",
    "        return 'Medium'\n",
    "    else:\n",
    "        return 'High'\n",
    "\n",
    "df['Risk_Level'] = df['Casualties'].apply(classify_risk)"
   ]
  },
  {
   "cell_type": "code",
   "execution_count": 20,
   "id": "2a96b434",
   "metadata": {},
   "outputs": [
    {
     "data": {
      "text/plain": [
       "Risk_Level\n",
       "High      6383\n",
       "Medium    1849\n",
       "Low       1768\n",
       "Name: count, dtype: int64"
      ]
     },
     "execution_count": 20,
     "metadata": {},
     "output_type": "execute_result"
    }
   ],
   "source": [
    "df[\"Risk_Level\"].value_counts()"
   ]
  },
  {
   "cell_type": "code",
   "execution_count": 21,
   "id": "ba324723",
   "metadata": {},
   "outputs": [
    {
     "data": {
      "text/plain": [
       "Index(['Accident ID', 'Date', 'Time', 'Location', 'Latitude', 'Longitude',\n",
       "       'Weather Condition', 'Road Condition', 'Vehicles Involved',\n",
       "       'Casualties', 'Cause', 'Risk_Level'],\n",
       "      dtype='object')"
      ]
     },
     "execution_count": 21,
     "metadata": {},
     "output_type": "execute_result"
    }
   ],
   "source": [
    "df.columns"
   ]
  },
  {
   "cell_type": "code",
   "execution_count": 22,
   "id": "3a1d8d2d",
   "metadata": {},
   "outputs": [
    {
     "data": {
      "text/html": [
       "<div>\n",
       "<style scoped>\n",
       "    .dataframe tbody tr th:only-of-type {\n",
       "        vertical-align: middle;\n",
       "    }\n",
       "\n",
       "    .dataframe tbody tr th {\n",
       "        vertical-align: top;\n",
       "    }\n",
       "\n",
       "    .dataframe thead th {\n",
       "        text-align: right;\n",
       "    }\n",
       "</style>\n",
       "<table border=\"1\" class=\"dataframe\">\n",
       "  <thead>\n",
       "    <tr style=\"text-align: right;\">\n",
       "      <th></th>\n",
       "      <th>Accident ID</th>\n",
       "      <th>Date</th>\n",
       "      <th>Time</th>\n",
       "      <th>Location</th>\n",
       "      <th>Latitude</th>\n",
       "      <th>Longitude</th>\n",
       "      <th>Weather Condition</th>\n",
       "      <th>Road Condition</th>\n",
       "      <th>Vehicles Involved</th>\n",
       "      <th>Casualties</th>\n",
       "      <th>Cause</th>\n",
       "      <th>Risk_Level</th>\n",
       "    </tr>\n",
       "  </thead>\n",
       "  <tbody>\n",
       "    <tr>\n",
       "      <th>0</th>\n",
       "      <td>b0dd6f57</td>\n",
       "      <td>2023-04-19</td>\n",
       "      <td>06:39</td>\n",
       "      <td>Mumbai, India</td>\n",
       "      <td>13.488432</td>\n",
       "      <td>-73.290682</td>\n",
       "      <td>Snow</td>\n",
       "      <td>Snowy</td>\n",
       "      <td>5</td>\n",
       "      <td>7</td>\n",
       "      <td>Reckless Driving</td>\n",
       "      <td>High</td>\n",
       "    </tr>\n",
       "    <tr>\n",
       "      <th>1</th>\n",
       "      <td>debfad09</td>\n",
       "      <td>2023-01-17</td>\n",
       "      <td>02:47</td>\n",
       "      <td>São Paulo, Brazil</td>\n",
       "      <td>-37.798317</td>\n",
       "      <td>-32.244242</td>\n",
       "      <td>Clear</td>\n",
       "      <td>Icy</td>\n",
       "      <td>4</td>\n",
       "      <td>1</td>\n",
       "      <td>Drunk Driving</td>\n",
       "      <td>Low</td>\n",
       "    </tr>\n",
       "    <tr>\n",
       "      <th>2</th>\n",
       "      <td>6d69aa36</td>\n",
       "      <td>2024-04-09</td>\n",
       "      <td>02:55</td>\n",
       "      <td>Sydney, Australia</td>\n",
       "      <td>33.767869</td>\n",
       "      <td>104.869018</td>\n",
       "      <td>Rain</td>\n",
       "      <td>Snowy</td>\n",
       "      <td>1</td>\n",
       "      <td>7</td>\n",
       "      <td>Reckless Driving</td>\n",
       "      <td>High</td>\n",
       "    </tr>\n",
       "    <tr>\n",
       "      <th>3</th>\n",
       "      <td>425bb1f0</td>\n",
       "      <td>2023-10-10</td>\n",
       "      <td>11:23</td>\n",
       "      <td>Tokyo, Japan</td>\n",
       "      <td>-0.378031</td>\n",
       "      <td>-165.825855</td>\n",
       "      <td>Storm</td>\n",
       "      <td>Wet</td>\n",
       "      <td>4</td>\n",
       "      <td>0</td>\n",
       "      <td>Drunk Driving</td>\n",
       "      <td>Low</td>\n",
       "    </tr>\n",
       "    <tr>\n",
       "      <th>4</th>\n",
       "      <td>90d5cf62</td>\n",
       "      <td>2023-01-02</td>\n",
       "      <td>12:07</td>\n",
       "      <td>Beijing, China</td>\n",
       "      <td>41.254879</td>\n",
       "      <td>-30.776959</td>\n",
       "      <td>Storm</td>\n",
       "      <td>Snowy</td>\n",
       "      <td>3</td>\n",
       "      <td>9</td>\n",
       "      <td>Reckless Driving</td>\n",
       "      <td>High</td>\n",
       "    </tr>\n",
       "  </tbody>\n",
       "</table>\n",
       "</div>"
      ],
      "text/plain": [
       "  Accident ID        Date   Time           Location   Latitude   Longitude  \\\n",
       "0    b0dd6f57  2023-04-19  06:39      Mumbai, India  13.488432  -73.290682   \n",
       "1    debfad09  2023-01-17  02:47  São Paulo, Brazil -37.798317  -32.244242   \n",
       "2    6d69aa36  2024-04-09  02:55  Sydney, Australia  33.767869  104.869018   \n",
       "3    425bb1f0  2023-10-10  11:23       Tokyo, Japan  -0.378031 -165.825855   \n",
       "4    90d5cf62  2023-01-02  12:07     Beijing, China  41.254879  -30.776959   \n",
       "\n",
       "  Weather Condition Road Condition  Vehicles Involved  Casualties  \\\n",
       "0              Snow          Snowy                  5           7   \n",
       "1             Clear            Icy                  4           1   \n",
       "2              Rain          Snowy                  1           7   \n",
       "3             Storm            Wet                  4           0   \n",
       "4             Storm          Snowy                  3           9   \n",
       "\n",
       "              Cause Risk_Level  \n",
       "0  Reckless Driving       High  \n",
       "1     Drunk Driving        Low  \n",
       "2  Reckless Driving       High  \n",
       "3     Drunk Driving        Low  \n",
       "4  Reckless Driving       High  "
      ]
     },
     "execution_count": 22,
     "metadata": {},
     "output_type": "execute_result"
    }
   ],
   "source": [
    "df.head()"
   ]
  },
  {
   "cell_type": "code",
   "execution_count": 23,
   "id": "092b45d7",
   "metadata": {},
   "outputs": [
    {
     "data": {
      "text/html": [
       "<div>\n",
       "<style scoped>\n",
       "    .dataframe tbody tr th:only-of-type {\n",
       "        vertical-align: middle;\n",
       "    }\n",
       "\n",
       "    .dataframe tbody tr th {\n",
       "        vertical-align: top;\n",
       "    }\n",
       "\n",
       "    .dataframe thead th {\n",
       "        text-align: right;\n",
       "    }\n",
       "</style>\n",
       "<table border=\"1\" class=\"dataframe\">\n",
       "  <thead>\n",
       "    <tr style=\"text-align: right;\">\n",
       "      <th></th>\n",
       "      <th>Latitude</th>\n",
       "      <th>Longitude</th>\n",
       "      <th>Vehicles Involved</th>\n",
       "      <th>Casualties</th>\n",
       "    </tr>\n",
       "  </thead>\n",
       "  <tbody>\n",
       "    <tr>\n",
       "      <th>count</th>\n",
       "      <td>10000.000000</td>\n",
       "      <td>10000.000000</td>\n",
       "      <td>10000.000000</td>\n",
       "      <td>10000.00000</td>\n",
       "    </tr>\n",
       "    <tr>\n",
       "      <th>mean</th>\n",
       "      <td>-0.543557</td>\n",
       "      <td>0.338573</td>\n",
       "      <td>2.999100</td>\n",
       "      <td>4.98820</td>\n",
       "    </tr>\n",
       "    <tr>\n",
       "      <th>std</th>\n",
       "      <td>51.917928</td>\n",
       "      <td>103.379168</td>\n",
       "      <td>1.408935</td>\n",
       "      <td>3.13015</td>\n",
       "    </tr>\n",
       "    <tr>\n",
       "      <th>min</th>\n",
       "      <td>-89.985688</td>\n",
       "      <td>-179.961984</td>\n",
       "      <td>1.000000</td>\n",
       "      <td>0.00000</td>\n",
       "    </tr>\n",
       "    <tr>\n",
       "      <th>25%</th>\n",
       "      <td>-45.426619</td>\n",
       "      <td>-88.231733</td>\n",
       "      <td>2.000000</td>\n",
       "      <td>2.00000</td>\n",
       "    </tr>\n",
       "    <tr>\n",
       "      <th>50%</th>\n",
       "      <td>-1.080556</td>\n",
       "      <td>-0.682727</td>\n",
       "      <td>3.000000</td>\n",
       "      <td>5.00000</td>\n",
       "    </tr>\n",
       "    <tr>\n",
       "      <th>75%</th>\n",
       "      <td>44.137309</td>\n",
       "      <td>89.973059</td>\n",
       "      <td>4.000000</td>\n",
       "      <td>8.00000</td>\n",
       "    </tr>\n",
       "    <tr>\n",
       "      <th>max</th>\n",
       "      <td>89.990081</td>\n",
       "      <td>179.981695</td>\n",
       "      <td>5.000000</td>\n",
       "      <td>10.00000</td>\n",
       "    </tr>\n",
       "  </tbody>\n",
       "</table>\n",
       "</div>"
      ],
      "text/plain": [
       "           Latitude     Longitude  Vehicles Involved   Casualties\n",
       "count  10000.000000  10000.000000       10000.000000  10000.00000\n",
       "mean      -0.543557      0.338573           2.999100      4.98820\n",
       "std       51.917928    103.379168           1.408935      3.13015\n",
       "min      -89.985688   -179.961984           1.000000      0.00000\n",
       "25%      -45.426619    -88.231733           2.000000      2.00000\n",
       "50%       -1.080556     -0.682727           3.000000      5.00000\n",
       "75%       44.137309     89.973059           4.000000      8.00000\n",
       "max       89.990081    179.981695           5.000000     10.00000"
      ]
     },
     "execution_count": 23,
     "metadata": {},
     "output_type": "execute_result"
    }
   ],
   "source": [
    "df.describe()"
   ]
  },
  {
   "cell_type": "code",
   "execution_count": 24,
   "id": "ce8810f9",
   "metadata": {},
   "outputs": [],
   "source": [
    "df.drop(columns=[\"Accident ID\"],inplace=True)"
   ]
  },
  {
   "cell_type": "code",
   "execution_count": 25,
   "id": "759dad59",
   "metadata": {},
   "outputs": [
    {
     "name": "stderr",
     "output_type": "stream",
     "text": [
      "C:\\Users\\G Supriya\\AppData\\Local\\Temp\\ipykernel_12776\\2115309209.py:3: UserWarning: Could not infer format, so each element will be parsed individually, falling back to `dateutil`. To ensure parsing is consistent and as-expected, please specify a format.\n",
      "  df[\"Hour\"]=pd.to_datetime(df[\"Time\"],errors=\"coerce\").dt.hour\n"
     ]
    }
   ],
   "source": [
    "import datetime\n",
    "df[\"Month\"]=pd.to_datetime(df['Date'], errors='coerce').dt.month\n",
    "df[\"Hour\"]=pd.to_datetime(df[\"Time\"],errors=\"coerce\").dt.hour"
   ]
  },
  {
   "cell_type": "code",
   "execution_count": 26,
   "id": "57ba1982",
   "metadata": {},
   "outputs": [
    {
     "name": "stdout",
     "output_type": "stream",
     "text": [
      "<class 'pandas.core.frame.DataFrame'>\n",
      "RangeIndex: 10000 entries, 0 to 9999\n",
      "Data columns (total 13 columns):\n",
      " #   Column             Non-Null Count  Dtype  \n",
      "---  ------             --------------  -----  \n",
      " 0   Date               10000 non-null  object \n",
      " 1   Time               10000 non-null  object \n",
      " 2   Location           10000 non-null  object \n",
      " 3   Latitude           10000 non-null  float64\n",
      " 4   Longitude          10000 non-null  float64\n",
      " 5   Weather Condition  10000 non-null  object \n",
      " 6   Road Condition     10000 non-null  object \n",
      " 7   Vehicles Involved  10000 non-null  int64  \n",
      " 8   Casualties         10000 non-null  int64  \n",
      " 9   Cause              10000 non-null  object \n",
      " 10  Risk_Level         10000 non-null  object \n",
      " 11  Month              10000 non-null  int32  \n",
      " 12  Hour               10000 non-null  int32  \n",
      "dtypes: float64(2), int32(2), int64(2), object(7)\n",
      "memory usage: 937.6+ KB\n"
     ]
    }
   ],
   "source": [
    "df.info()"
   ]
  },
  {
   "cell_type": "code",
   "execution_count": 27,
   "id": "00fd9c90",
   "metadata": {},
   "outputs": [],
   "source": [
    "df.drop(columns=[\"Date\",\"Time\"],inplace=True)"
   ]
  },
  {
   "cell_type": "code",
   "execution_count": 28,
   "id": "18be25d7",
   "metadata": {},
   "outputs": [
    {
     "data": {
      "text/html": [
       "<div>\n",
       "<style scoped>\n",
       "    .dataframe tbody tr th:only-of-type {\n",
       "        vertical-align: middle;\n",
       "    }\n",
       "\n",
       "    .dataframe tbody tr th {\n",
       "        vertical-align: top;\n",
       "    }\n",
       "\n",
       "    .dataframe thead th {\n",
       "        text-align: right;\n",
       "    }\n",
       "</style>\n",
       "<table border=\"1\" class=\"dataframe\">\n",
       "  <thead>\n",
       "    <tr style=\"text-align: right;\">\n",
       "      <th></th>\n",
       "      <th>Location</th>\n",
       "      <th>Latitude</th>\n",
       "      <th>Longitude</th>\n",
       "      <th>Weather Condition</th>\n",
       "      <th>Road Condition</th>\n",
       "      <th>Vehicles Involved</th>\n",
       "      <th>Casualties</th>\n",
       "      <th>Cause</th>\n",
       "      <th>Risk_Level</th>\n",
       "      <th>Month</th>\n",
       "      <th>Hour</th>\n",
       "    </tr>\n",
       "  </thead>\n",
       "  <tbody>\n",
       "    <tr>\n",
       "      <th>0</th>\n",
       "      <td>Mumbai, India</td>\n",
       "      <td>13.488432</td>\n",
       "      <td>-73.290682</td>\n",
       "      <td>Snow</td>\n",
       "      <td>Snowy</td>\n",
       "      <td>5</td>\n",
       "      <td>7</td>\n",
       "      <td>Reckless Driving</td>\n",
       "      <td>High</td>\n",
       "      <td>4</td>\n",
       "      <td>6</td>\n",
       "    </tr>\n",
       "    <tr>\n",
       "      <th>1</th>\n",
       "      <td>São Paulo, Brazil</td>\n",
       "      <td>-37.798317</td>\n",
       "      <td>-32.244242</td>\n",
       "      <td>Clear</td>\n",
       "      <td>Icy</td>\n",
       "      <td>4</td>\n",
       "      <td>1</td>\n",
       "      <td>Drunk Driving</td>\n",
       "      <td>Low</td>\n",
       "      <td>1</td>\n",
       "      <td>2</td>\n",
       "    </tr>\n",
       "    <tr>\n",
       "      <th>2</th>\n",
       "      <td>Sydney, Australia</td>\n",
       "      <td>33.767869</td>\n",
       "      <td>104.869018</td>\n",
       "      <td>Rain</td>\n",
       "      <td>Snowy</td>\n",
       "      <td>1</td>\n",
       "      <td>7</td>\n",
       "      <td>Reckless Driving</td>\n",
       "      <td>High</td>\n",
       "      <td>4</td>\n",
       "      <td>2</td>\n",
       "    </tr>\n",
       "    <tr>\n",
       "      <th>3</th>\n",
       "      <td>Tokyo, Japan</td>\n",
       "      <td>-0.378031</td>\n",
       "      <td>-165.825855</td>\n",
       "      <td>Storm</td>\n",
       "      <td>Wet</td>\n",
       "      <td>4</td>\n",
       "      <td>0</td>\n",
       "      <td>Drunk Driving</td>\n",
       "      <td>Low</td>\n",
       "      <td>10</td>\n",
       "      <td>11</td>\n",
       "    </tr>\n",
       "    <tr>\n",
       "      <th>4</th>\n",
       "      <td>Beijing, China</td>\n",
       "      <td>41.254879</td>\n",
       "      <td>-30.776959</td>\n",
       "      <td>Storm</td>\n",
       "      <td>Snowy</td>\n",
       "      <td>3</td>\n",
       "      <td>9</td>\n",
       "      <td>Reckless Driving</td>\n",
       "      <td>High</td>\n",
       "      <td>1</td>\n",
       "      <td>12</td>\n",
       "    </tr>\n",
       "  </tbody>\n",
       "</table>\n",
       "</div>"
      ],
      "text/plain": [
       "            Location   Latitude   Longitude Weather Condition Road Condition  \\\n",
       "0      Mumbai, India  13.488432  -73.290682              Snow          Snowy   \n",
       "1  São Paulo, Brazil -37.798317  -32.244242             Clear            Icy   \n",
       "2  Sydney, Australia  33.767869  104.869018              Rain          Snowy   \n",
       "3       Tokyo, Japan  -0.378031 -165.825855             Storm            Wet   \n",
       "4     Beijing, China  41.254879  -30.776959             Storm          Snowy   \n",
       "\n",
       "   Vehicles Involved  Casualties             Cause Risk_Level  Month  Hour  \n",
       "0                  5           7  Reckless Driving       High      4     6  \n",
       "1                  4           1     Drunk Driving        Low      1     2  \n",
       "2                  1           7  Reckless Driving       High      4     2  \n",
       "3                  4           0     Drunk Driving        Low     10    11  \n",
       "4                  3           9  Reckless Driving       High      1    12  "
      ]
     },
     "execution_count": 28,
     "metadata": {},
     "output_type": "execute_result"
    }
   ],
   "source": [
    "df.head()"
   ]
  },
  {
   "cell_type": "code",
   "execution_count": 29,
   "id": "b0164250",
   "metadata": {},
   "outputs": [],
   "source": [
    "from sklearn.preprocessing import LabelEncoder\n",
    "from sklearn.model_selection import train_test_split\n",
    "from sklearn.linear_model import LogisticRegression\n",
    "from sklearn.metrics import confusion_matrix,classification_report"
   ]
  },
  {
   "cell_type": "code",
   "execution_count": 30,
   "id": "a2da2c21",
   "metadata": {},
   "outputs": [],
   "source": [
    "categorical_cols=df.select_dtypes(include=\"object\").columns\n",
    "for col in categorical_cols:\n",
    "    le=LabelEncoder()\n",
    "    df[col]=le.fit_transform(df[col])"
   ]
  },
  {
   "cell_type": "code",
   "execution_count": 31,
   "id": "3f0f8761",
   "metadata": {},
   "outputs": [
    {
     "data": {
      "text/html": [
       "<div>\n",
       "<style scoped>\n",
       "    .dataframe tbody tr th:only-of-type {\n",
       "        vertical-align: middle;\n",
       "    }\n",
       "\n",
       "    .dataframe tbody tr th {\n",
       "        vertical-align: top;\n",
       "    }\n",
       "\n",
       "    .dataframe thead th {\n",
       "        text-align: right;\n",
       "    }\n",
       "</style>\n",
       "<table border=\"1\" class=\"dataframe\">\n",
       "  <thead>\n",
       "    <tr style=\"text-align: right;\">\n",
       "      <th></th>\n",
       "      <th>Location</th>\n",
       "      <th>Latitude</th>\n",
       "      <th>Longitude</th>\n",
       "      <th>Weather Condition</th>\n",
       "      <th>Road Condition</th>\n",
       "      <th>Vehicles Involved</th>\n",
       "      <th>Casualties</th>\n",
       "      <th>Cause</th>\n",
       "      <th>Risk_Level</th>\n",
       "      <th>Month</th>\n",
       "      <th>Hour</th>\n",
       "    </tr>\n",
       "  </thead>\n",
       "  <tbody>\n",
       "    <tr>\n",
       "      <th>0</th>\n",
       "      <td>3</td>\n",
       "      <td>13.488432</td>\n",
       "      <td>-73.290682</td>\n",
       "      <td>4</td>\n",
       "      <td>3</td>\n",
       "      <td>5</td>\n",
       "      <td>7</td>\n",
       "      <td>3</td>\n",
       "      <td>0</td>\n",
       "      <td>4</td>\n",
       "      <td>6</td>\n",
       "    </tr>\n",
       "    <tr>\n",
       "      <th>1</th>\n",
       "      <td>7</td>\n",
       "      <td>-37.798317</td>\n",
       "      <td>-32.244242</td>\n",
       "      <td>0</td>\n",
       "      <td>2</td>\n",
       "      <td>4</td>\n",
       "      <td>1</td>\n",
       "      <td>1</td>\n",
       "      <td>1</td>\n",
       "      <td>1</td>\n",
       "      <td>2</td>\n",
       "    </tr>\n",
       "    <tr>\n",
       "      <th>2</th>\n",
       "      <td>6</td>\n",
       "      <td>33.767869</td>\n",
       "      <td>104.869018</td>\n",
       "      <td>3</td>\n",
       "      <td>3</td>\n",
       "      <td>1</td>\n",
       "      <td>7</td>\n",
       "      <td>3</td>\n",
       "      <td>0</td>\n",
       "      <td>4</td>\n",
       "      <td>2</td>\n",
       "    </tr>\n",
       "    <tr>\n",
       "      <th>3</th>\n",
       "      <td>8</td>\n",
       "      <td>-0.378031</td>\n",
       "      <td>-165.825855</td>\n",
       "      <td>5</td>\n",
       "      <td>5</td>\n",
       "      <td>4</td>\n",
       "      <td>0</td>\n",
       "      <td>1</td>\n",
       "      <td>1</td>\n",
       "      <td>10</td>\n",
       "      <td>11</td>\n",
       "    </tr>\n",
       "    <tr>\n",
       "      <th>4</th>\n",
       "      <td>0</td>\n",
       "      <td>41.254879</td>\n",
       "      <td>-30.776959</td>\n",
       "      <td>5</td>\n",
       "      <td>3</td>\n",
       "      <td>3</td>\n",
       "      <td>9</td>\n",
       "      <td>3</td>\n",
       "      <td>0</td>\n",
       "      <td>1</td>\n",
       "      <td>12</td>\n",
       "    </tr>\n",
       "  </tbody>\n",
       "</table>\n",
       "</div>"
      ],
      "text/plain": [
       "   Location   Latitude   Longitude  Weather Condition  Road Condition  \\\n",
       "0         3  13.488432  -73.290682                  4               3   \n",
       "1         7 -37.798317  -32.244242                  0               2   \n",
       "2         6  33.767869  104.869018                  3               3   \n",
       "3         8  -0.378031 -165.825855                  5               5   \n",
       "4         0  41.254879  -30.776959                  5               3   \n",
       "\n",
       "   Vehicles Involved  Casualties  Cause  Risk_Level  Month  Hour  \n",
       "0                  5           7      3           0      4     6  \n",
       "1                  4           1      1           1      1     2  \n",
       "2                  1           7      3           0      4     2  \n",
       "3                  4           0      1           1     10    11  \n",
       "4                  3           9      3           0      1    12  "
      ]
     },
     "execution_count": 31,
     "metadata": {},
     "output_type": "execute_result"
    }
   ],
   "source": [
    "df.head()"
   ]
  },
  {
   "cell_type": "code",
   "execution_count": 32,
   "id": "865de43b",
   "metadata": {},
   "outputs": [],
   "source": [
    "features=[\"Location\",\"Weather Condition\",\"Road Condition\",\"Vehicles Involved\",\"Cause\",\"Casualties\",\"Month\",\"Hour\"]\n",
    "X=df[features]\n",
    "y=df[\"Risk_Level\"]"
   ]
  },
  {
   "cell_type": "code",
   "execution_count": 33,
   "id": "c51dbdfa",
   "metadata": {},
   "outputs": [],
   "source": [
    "X_train,X_test,y_train,y_test=train_test_split(X,y,test_size=0.2,random_state=42)"
   ]
  },
  {
   "cell_type": "code",
   "execution_count": 34,
   "id": "7c562d1c",
   "metadata": {},
   "outputs": [],
   "source": [
    "model=LogisticRegression(random_state=42)"
   ]
  },
  {
   "cell_type": "code",
   "execution_count": 35,
   "id": "f8a6d885",
   "metadata": {},
   "outputs": [],
   "source": [
    "model.fit(X_train,y_train)\n",
    "y_pred=model.predict(X_test)"
   ]
  },
  {
   "cell_type": "code",
   "execution_count": 36,
   "id": "28e32566",
   "metadata": {},
   "outputs": [
    {
     "data": {
      "text/html": [
       "<div>\n",
       "<style scoped>\n",
       "    .dataframe tbody tr th:only-of-type {\n",
       "        vertical-align: middle;\n",
       "    }\n",
       "\n",
       "    .dataframe tbody tr th {\n",
       "        vertical-align: top;\n",
       "    }\n",
       "\n",
       "    .dataframe thead th {\n",
       "        text-align: right;\n",
       "    }\n",
       "</style>\n",
       "<table border=\"1\" class=\"dataframe\">\n",
       "  <thead>\n",
       "    <tr style=\"text-align: right;\">\n",
       "      <th></th>\n",
       "      <th>Actual values</th>\n",
       "      <th>Predicted values</th>\n",
       "    </tr>\n",
       "  </thead>\n",
       "  <tbody>\n",
       "    <tr>\n",
       "      <th>6252</th>\n",
       "      <td>0</td>\n",
       "      <td>0</td>\n",
       "    </tr>\n",
       "    <tr>\n",
       "      <th>4684</th>\n",
       "      <td>1</td>\n",
       "      <td>1</td>\n",
       "    </tr>\n",
       "    <tr>\n",
       "      <th>1731</th>\n",
       "      <td>0</td>\n",
       "      <td>0</td>\n",
       "    </tr>\n",
       "    <tr>\n",
       "      <th>4742</th>\n",
       "      <td>0</td>\n",
       "      <td>0</td>\n",
       "    </tr>\n",
       "    <tr>\n",
       "      <th>4521</th>\n",
       "      <td>0</td>\n",
       "      <td>0</td>\n",
       "    </tr>\n",
       "  </tbody>\n",
       "</table>\n",
       "</div>"
      ],
      "text/plain": [
       "      Actual values  Predicted values\n",
       "6252              0                 0\n",
       "4684              1                 1\n",
       "1731              0                 0\n",
       "4742              0                 0\n",
       "4521              0                 0"
      ]
     },
     "execution_count": 36,
     "metadata": {},
     "output_type": "execute_result"
    }
   ],
   "source": [
    "compared_df=pd.DataFrame({\"Actual values\":y_test,\"Predicted values\":y_pred})\n",
    "compared_df.head()"
   ]
  },
  {
   "cell_type": "code",
   "execution_count": 37,
   "id": "14f3c295",
   "metadata": {},
   "outputs": [
    {
     "name": "stdout",
     "output_type": "stream",
     "text": [
      "Confusion Matrix:\n",
      " [[1218    0    0]\n",
      " [   0  371    0]\n",
      " [   0    0  411]]\n"
     ]
    }
   ],
   "source": [
    "confusion_matrixs=confusion_matrix(y_test,y_pred)\n",
    "print(\"Confusion Matrix:\\n\",confusion_matrix(y_test,y_pred))"
   ]
  },
  {
   "cell_type": "code",
   "execution_count": 38,
   "id": "1be918e2",
   "metadata": {},
   "outputs": [
    {
     "name": "stdout",
     "output_type": "stream",
     "text": [
      "classification report:\n",
      "               precision    recall  f1-score   support\n",
      "\n",
      "           0       1.00      1.00      1.00      1218\n",
      "           1       1.00      1.00      1.00       371\n",
      "           2       1.00      1.00      1.00       411\n",
      "\n",
      "    accuracy                           1.00      2000\n",
      "   macro avg       1.00      1.00      1.00      2000\n",
      "weighted avg       1.00      1.00      1.00      2000\n",
      "\n"
     ]
    }
   ],
   "source": [
    "print(\"classification report:\\n\",classification_report(y_test,y_pred))"
   ]
  },
  {
   "cell_type": "code",
   "execution_count": 39,
   "id": "fdd1d49e",
   "metadata": {},
   "outputs": [
    {
     "data": {
      "text/plain": [
       "<Axes: >"
      ]
     },
     "execution_count": 39,
     "metadata": {},
     "output_type": "execute_result"
    },
    {
     "data": {
      "image/png": "[encoded data removed]",
      "text/plain": [
       "<Figure size 640x480 with 2 Axes>"
      ]
     },
     "metadata": {},
     "output_type": "display_data"
    }
   ],
   "source": [
    "sns.heatmap(confusion_matrixs,annot=True, fmt='d', cmap='YlGnBu', xticklabels=model.classes_, yticklabels=model.classes_)"
   ]
  },
  {
   "cell_type": "code",
   "execution_count": null,
   "id": "9742c936",
   "metadata": {},
   "outputs": [],
   "source": []
  },
  {
   "cell_type": "code",
   "execution_count": null,
   "id": "a70961b9",
   "metadata": {},
   "outputs": [],
   "source": []
  },
  {
   "cell_type": "code",
   "execution_count": null,
   "id": "ea526534",
   "metadata": {},
   "outputs": [],
   "source": []
  }
 ],
 "metadata": {
  "kernelspec": {
   "display_name": "Python 3",
   "language": "python",
   "name": "python3"
  },
  "language_info": {
   "codemirror_mode": {
    "name": "ipython",
    "version": 3
   },
   "file_extension": ".py",
   "mimetype": "text/x-python",
   "name": "python",
   "nbconvert_exporter": "python",
   "pygments_lexer": "ipython3",
   "version": "3.12.4"
  }
 },
 "nbformat": 4,
 "nbformat_minor": 5
}
